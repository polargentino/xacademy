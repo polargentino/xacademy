{
 "cells": [
  {
   "cell_type": "markdown",
   "id": "662e572f",
   "metadata": {},
   "source": [
    "# Linux\n",
    "\n",
    "## Introducción\n",
    "\n",
    "Linux fue creado en 1991 por **Linus Torvalds**, inspirado en el proyecto Minix, el cual era un clon de Unix. Si bien comúnmente se dice que Linux es un sistema operativo “Unix”, en realidad nos referimos a que es “tipo Unix”, ya que no contiene código Unix en él. Aunque fue originalmente desarrollado para computadoras personales, actualmente es el **principal sistema operativo de servidores**.\n",
    "\n",
    "## Ubuntu\n",
    "\n",
    "Ubuntu es una “distribución” de Linux. Veamos: Linux o “el kernel” es el sistema operativo, que en realidad solo sabe administrar procesos, la memoria de estos procesos, y saber cómo interactuar con los dispositivos de la computadora donde corre el S.O. así los procesos pueden trabajar.\n",
    "\n",
    "Estos procesos son **herramientas o utilitarios** que nos permiten almacenar datos, ver estos datos, transferirlos de un dispositivo a otro, imprimirlos o borrarlos.\n",
    "\n",
    "Estos no son uno, son una colección de utilitarios que van desde:\n",
    "\n",
    "* Intérpretes de comandos (bash, csh)\n",
    "* Utilitarios para manejar impresoras (lp, lpstat)\n",
    "* Entornos gráficos (kde, gnome, mate)\n",
    "* Manejadores de base de datos (MySQL, PostgreSQL)\n",
    "\n",
    "Estos utilitarios deben ser **empaquetados modularmente** para poder ser instalados fácilmente como así también, mantenidos por un equipo de gente para updates de seguridad, por ejemplo.\n",
    "\n",
    "Estos paquetes tienen además una forma de administración para facilitar la instalación y también el update. A este conjunto de paquetes de utilidades, más el S.O. (que también es considerado parte de los utilitarios) se le llama “distribuciones”, “Una Distro” para los más audaces.\n",
    "\n",
    "La historia nos cuenta que hay distros que empaquetan solo fuentes y los compilan en el momento de instalación, y otras que empaquetan binarios, compilados de los fuentes. Algunas hacen las 2 cosas. Dentro de las que empaquetan binarios hay 2 grandes: **RPM (Red Hat)** y **DEB (Debian)**.\n",
    "\n",
    "Ubuntu es una distribución basada en Debian.\n",
    "\n",
    "## ¿Por qué no usar Windows con WSL o VM?\n",
    "\n",
    "Si bien a lo largo de los años WSL o el Subsistema de Windows para Linux ha mejorado, sigue sin ser una forma viable de desarrollar software. Tiene muchos problemas de configuración y su funcionamiento puede variar mucho de un sistema a otro, lo que lo hace inviable como una alternativa real a usar Ubuntu.\n",
    "\n",
    "Si bien Ubuntu en una Máquina Virtual (VM) funciona bien, la cantidad de recursos disponibles hace que tampoco sea una opción viable, aunque puede ser usada para “practicar” la instalación y uso general del sistema operativo.\n",
    "\n",
    "---\n",
    "\n",
    "## Instalación\n",
    "\n",
    "### Descargar ISO\n",
    "\n",
    "El primer paso para instalar Ubuntu es dirigirse a la página de descargas (https://ubuntu.com/download/desktop) y descargar una **imagen ISO de Ubuntu**. Lo mejor siempre es descargar la última versión **LTS**, ya que ésta es la versión de soporte a largo plazo.\n",
    "\n",
    "### Generar pendrive booteable\n",
    "\n",
    "Luego de descargar la imagen, debemos hacer un **pendrive booteable**. Para esto usamos balenaEtcher, que podemos descargar de https://www.balena.io/etcher/."
   ]
  }
 ],
 "metadata": {
  "language_info": {
   "name": "python"
  }
 },
 "nbformat": 4,
 "nbformat_minor": 5
}
